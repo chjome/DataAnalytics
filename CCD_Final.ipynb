{
 "cells": [
  {
   "cell_type": "markdown",
   "id": "zAnkmGrzXIMc",
   "metadata": {
    "id": "zAnkmGrzXIMc"
   },
   "source": [
    "# ML Benchmark\n",
    "**Author** \n",
    "Christopher Metzler"
   ]
  },
  {
   "cell_type": "code",
   "execution_count": 1,
   "id": "31MeIX1WG9sm",
   "metadata": {
    "id": "31MeIX1WG9sm"
   },
   "outputs": [],
   "source": [
    "import pandas as pd\n",
    "import numpy as np\n",
    "import seaborn as sns\n",
    "import matplotlib.pyplot as plt\n",
    "from sklearn import preprocessing\n",
    "from sklearn import linear_model\n",
    "from sklearn import tree\n",
    "from sklearn.pipeline import Pipeline\n",
    "from sklearn.preprocessing import StandardScaler\n",
    "from sklearn.tree import DecisionTreeClassifier\n",
    "from sklearn.model_selection import train_test_split"
   ]
  },
  {
   "cell_type": "code",
   "execution_count": 2,
   "id": "py-avlGEG1Qq",
   "metadata": {
    "colab": {
     "base_uri": "https://localhost:8080/"
    },
    "id": "py-avlGEG1Qq",
    "outputId": "67a9c4e2-d525-4ec5-b127-7c402ebf0135"
   },
   "outputs": [
    {
     "name": "stdout",
     "output_type": "stream",
     "text": [
      "<class 'pandas.core.frame.DataFrame'>\n",
      "RangeIndex: 19055 entries, 0 to 19054\n",
      "Data columns (total 62 columns):\n",
      " #   Column                                                                          Non-Null Count  Dtype \n",
      "---  ------                                                                          --------------  ----- \n",
      " 0   Agency Name                                                                     19055 non-null  object\n",
      " 1   State Name [District] Latest available year                                     19049 non-null  object\n",
      " 2   Agency Type [District] 2017-18                                                  19051 non-null  object\n",
      " 3   Agency Type [District] 2016-17                                                  19051 non-null  object\n",
      " 4   Agency Type [District] 2015-16                                                  19051 non-null  object\n",
      " 5   School District Level Code (SCHLEV) [District Finance] 2017-18                  19051 non-null  object\n",
      " 6   School District Level Code (SCHLEV) [District Finance] 2016-17                  19051 non-null  object\n",
      " 7   School District Level Code (SCHLEV) [District Finance] 2015-16                  19051 non-null  object\n",
      " 8   Urban-centric Locale [District] 2017-18                                         19051 non-null  object\n",
      " 9   Urban-centric Locale [District] 2016-17                                         19051 non-null  object\n",
      " 10  Urban-centric Locale [District] 2015-16                                         19051 non-null  object\n",
      " 11  Total Students All Grades (Includes AE) [District] 2017-18                      19051 non-null  object\n",
      " 12  Total Students All Grades (Includes AE) [District] 2016-17                      19051 non-null  object\n",
      " 13  Total Students All Grades (Includes AE) [District] 2015-16                      19051 non-null  object\n",
      " 14  American Indian/Alaska Native Students [District] 2017-18                       19051 non-null  object\n",
      " 15  American Indian/Alaska Native Students [District] 2016-17                       19051 non-null  object\n",
      " 16  American Indian/Alaska Native Students [District] 2015-16                       19051 non-null  object\n",
      " 17  Hispanic Students [District] 2017-18                                            19051 non-null  object\n",
      " 18  Hispanic Students [District] 2016-17                                            19051 non-null  object\n",
      " 19  Hispanic Students [District] 2015-16                                            19051 non-null  object\n",
      " 20  Asian or Asian/Pacific Islander Students [District] 2017-18                     19051 non-null  object\n",
      " 21  Asian or Asian/Pacific Islander Students [District] 2016-17                     19051 non-null  object\n",
      " 22  Asian or Asian/Pacific Islander Students [District] 2015-16                     19051 non-null  object\n",
      " 23  Black or African American Students [District] 2017-18                           19051 non-null  object\n",
      " 24  Black or African American Students [District] 2016-17                           19051 non-null  object\n",
      " 25  Black or African American Students [District] 2015-16                           19051 non-null  object\n",
      " 26  White Students [District] 2017-18                                               19051 non-null  object\n",
      " 27  White Students [District] 2016-17                                               19051 non-null  object\n",
      " 28  White Students [District] 2015-16                                               19051 non-null  object\n",
      " 29  Two or More Races Students [District] 2017-18                                   19051 non-null  object\n",
      " 30  Two or More Races Students [District] 2016-17                                   19051 non-null  object\n",
      " 31  Two or More Races Students [District] 2015-16                                   19051 non-null  object\n",
      " 32  Nat. Hawaiian or Other Pacific Isl. Students [District] 2017-18                 19051 non-null  object\n",
      " 33  Nat. Hawaiian or Other Pacific Isl. Students [District] 2016-17                 19051 non-null  object\n",
      " 34  Nat. Hawaiian or Other Pacific Isl. Students [District] 2015-16                 19051 non-null  object\n",
      " 35  Total Race/Ethnicity [District] 2017-18                                         19051 non-null  object\n",
      " 36  Total Race/Ethnicity [District] 2016-17                                         19051 non-null  object\n",
      " 37  Total Race/Ethnicity [District] 2015-16                                         19051 non-null  object\n",
      " 38  Pupil/Teacher Ratio [District] 2017-18                                          19051 non-null  object\n",
      " 39  Pupil/Teacher Ratio [District] 2016-17                                          19051 non-null  object\n",
      " 40  Pupil/Teacher Ratio [District] 2015-16                                          19051 non-null  object\n",
      " 41  Total Staff [District] 2017-18                                                  19051 non-null  object\n",
      " 42  Total Staff [District] 2016-17                                                  19051 non-null  object\n",
      " 43  Total Staff [District] 2015-16                                                  19051 non-null  object\n",
      " 44  Total General Revenue (TOTALREV) [District Finance] 2017-18                     19051 non-null  object\n",
      " 45  Total General Revenue (TOTALREV) [District Finance] 2016-17                     19051 non-null  object\n",
      " 46  Total General Revenue (TOTALREV) [District Finance] 2015-16                     19051 non-null  object\n",
      " 47  Total Revenue (TOTALREV) per Pupil (V33) [District Finance] 2017-18             19051 non-null  object\n",
      " 48  Total Revenue (TOTALREV) per Pupil (V33) [District Finance] 2016-17             19051 non-null  object\n",
      " 49  Total Revenue (TOTALREV) per Pupil (V33) [District Finance] 2015-16             19051 non-null  object\n",
      " 50  Long Term Debt - Outstanding Beginning of FY (_19H) [District Finance] 2017-18  19051 non-null  object\n",
      " 51  Long Term Debt - Outstanding Beginning of FY (_19H) [District Finance] 2016-17  19051 non-null  object\n",
      " 52  Long Term Debt - Outstanding Beginning of FY (_19H) [District Finance] 2015-16  19051 non-null  object\n",
      " 53  State Rev. - General Formula Assistance (C01) [District Finance] 2017-18        19051 non-null  object\n",
      " 54  State Rev. - General Formula Assistance (C01) [District Finance] 2016-17        19051 non-null  object\n",
      " 55  State Rev. - General Formula Assistance (C01) [District Finance] 2015-16        19051 non-null  object\n",
      " 56  Local Rev. - Property Taxes (T06) [District Finance] 2017-18                    19051 non-null  object\n",
      " 57  Local Rev. - Property Taxes (T06) [District Finance] 2016-17                    19051 non-null  object\n",
      " 58  Local Rev. - Property Taxes (T06) [District Finance] 2015-16                    19051 non-null  object\n",
      " 59  Federal Rev. - Federal Title I Revenue (C14) [District Finance] 2017-18         19051 non-null  object\n",
      " 60  Federal Rev. - Federal Title I Revenue (C14) [District Finance] 2016-17         19051 non-null  object\n",
      " 61  Federal Rev. - Federal Title I Revenue (C14) [District Finance] 2015-16         19051 non-null  object\n",
      "dtypes: object(62)\n",
      "memory usage: 9.0+ MB\n"
     ]
    }
   ],
   "source": [
    "df = pd.read_csv(\"exploratory.csv\", na_values = \"?\", sep=',', skipinitialspace=True)\n",
    "df.info()"
   ]
  },
  {
   "cell_type": "code",
   "execution_count": 3,
   "id": "VqCrESnRD9ri",
   "metadata": {
    "colab": {
     "base_uri": "https://localhost:8080/"
    },
    "id": "VqCrESnRD9ri",
    "outputId": "da510f21-c404-4705-c62b-d3a698e62cf4"
   },
   "outputs": [
    {
     "name": "stdout",
     "output_type": "stream",
     "text": [
      "Agency Name                                                                0\n",
      "State Name [District] Latest available year                                6\n",
      "Agency Type [District] 2017-18                                             4\n",
      "Agency Type [District] 2016-17                                             4\n",
      "Agency Type [District] 2015-16                                             4\n",
      "                                                                          ..\n",
      "Local Rev. - Property Taxes (T06) [District Finance] 2016-17               4\n",
      "Local Rev. - Property Taxes (T06) [District Finance] 2015-16               4\n",
      "Federal Rev. - Federal Title I Revenue (C14) [District Finance] 2017-18    4\n",
      "Federal Rev. - Federal Title I Revenue (C14) [District Finance] 2016-17    4\n",
      "Federal Rev. - Federal Title I Revenue (C14) [District Finance] 2015-16    4\n",
      "Length: 62, dtype: int64\n"
     ]
    }
   ],
   "source": [
    "#Check for NA values\n",
    "print(df.isna().sum())\n",
    "#drop existing NA values\n",
    "df.fillna(value=0,inplace=True)"
   ]
  },
  {
   "cell_type": "code",
   "execution_count": 4,
   "id": "5AuVBkUaKr1L",
   "metadata": {
    "colab": {
     "base_uri": "https://localhost:8080/"
    },
    "id": "5AuVBkUaKr1L",
    "outputId": "d685ac78-0dbf-4cec-ff00-1e69e1249861"
   },
   "outputs": [
    {
     "name": "stdout",
     "output_type": "stream",
     "text": [
      "Agency Name                                                                0\n",
      "State Name [District] Latest available year                                0\n",
      "Agency Type [District] 2017-18                                             0\n",
      "Agency Type [District] 2016-17                                             0\n",
      "Agency Type [District] 2015-16                                             0\n",
      "                                                                          ..\n",
      "Local Rev. - Property Taxes (T06) [District Finance] 2016-17               0\n",
      "Local Rev. - Property Taxes (T06) [District Finance] 2015-16               0\n",
      "Federal Rev. - Federal Title I Revenue (C14) [District Finance] 2017-18    0\n",
      "Federal Rev. - Federal Title I Revenue (C14) [District Finance] 2016-17    0\n",
      "Federal Rev. - Federal Title I Revenue (C14) [District Finance] 2015-16    0\n",
      "Length: 62, dtype: int64\n"
     ]
    }
   ],
   "source": [
    "#Verify Results\n",
    "print(df.isna().sum())"
   ]
  },
  {
   "cell_type": "code",
   "execution_count": 5,
   "id": "xKpBmp15GY90",
   "metadata": {
    "colab": {
     "base_uri": "https://localhost:8080/",
     "height": 386
    },
    "id": "xKpBmp15GY90",
    "outputId": "ea80ea3b-db27-4e99-c182-66e31c16cfc1"
   },
   "outputs": [
    {
     "data": {
      "text/html": [
       "<div>\n",
       "<style scoped>\n",
       "    .dataframe tbody tr th:only-of-type {\n",
       "        vertical-align: middle;\n",
       "    }\n",
       "\n",
       "    .dataframe tbody tr th {\n",
       "        vertical-align: top;\n",
       "    }\n",
       "\n",
       "    .dataframe thead th {\n",
       "        text-align: right;\n",
       "    }\n",
       "</style>\n",
       "<table border=\"1\" class=\"dataframe\">\n",
       "  <thead>\n",
       "    <tr style=\"text-align: right;\">\n",
       "      <th></th>\n",
       "      <th>Agency Name</th>\n",
       "      <th>State Name [District] Latest available year</th>\n",
       "      <th>Agency Type [District] 2017-18</th>\n",
       "      <th>School District Level Code (SCHLEV) [District Finance] 2017-18</th>\n",
       "      <th>Urban-centric Locale [District] 2017-18</th>\n",
       "      <th>Total Students All Grades (Includes AE) [District] 2017-18</th>\n",
       "      <th>American Indian/Alaska Native Students [District] 2017-18</th>\n",
       "      <th>Hispanic Students [District] 2017-18</th>\n",
       "      <th>Asian or Asian/Pacific Islander Students [District] 2017-18</th>\n",
       "      <th>Black or African American Students [District] 2017-18</th>\n",
       "      <th>White Students [District] 2017-18</th>\n",
       "      <th>Two or More Races Students [District] 2017-18</th>\n",
       "      <th>Nat. Hawaiian or Other Pacific Isl. Students [District] 2017-18</th>\n",
       "      <th>Total Race/Ethnicity [District] 2017-18</th>\n",
       "      <th>Pupil/Teacher Ratio [District] 2017-18</th>\n",
       "      <th>Total Staff [District] 2017-18</th>\n",
       "      <th>Total General Revenue (TOTALREV) [District Finance] 2017-18</th>\n",
       "      <th>Total Revenue (TOTALREV) per Pupil (V33) [District Finance] 2017-18</th>\n",
       "      <th>Long Term Debt - Outstanding Beginning of FY (_19H) [District Finance] 2017-18</th>\n",
       "      <th>State Rev. - General Formula Assistance (C01) [District Finance] 2017-18</th>\n",
       "      <th>Local Rev. - Property Taxes (T06) [District Finance] 2017-18</th>\n",
       "      <th>Federal Rev. - Federal Title I Revenue (C14) [District Finance] 2017-18</th>\n",
       "    </tr>\n",
       "  </thead>\n",
       "  <tbody>\n",
       "    <tr>\n",
       "      <th>count</th>\n",
       "      <td>19055</td>\n",
       "      <td>19055</td>\n",
       "      <td>19055</td>\n",
       "      <td>19055</td>\n",
       "      <td>19055</td>\n",
       "      <td>19055</td>\n",
       "      <td>19055</td>\n",
       "      <td>19055</td>\n",
       "      <td>19055</td>\n",
       "      <td>19055</td>\n",
       "      <td>19055</td>\n",
       "      <td>19055</td>\n",
       "      <td>19055</td>\n",
       "      <td>19055</td>\n",
       "      <td>19055</td>\n",
       "      <td>19055</td>\n",
       "      <td>19055</td>\n",
       "      <td>19055</td>\n",
       "      <td>19055</td>\n",
       "      <td>19055</td>\n",
       "      <td>19055</td>\n",
       "      <td>19055</td>\n",
       "    </tr>\n",
       "    <tr>\n",
       "      <th>unique</th>\n",
       "      <td>18511</td>\n",
       "      <td>97</td>\n",
       "      <td>11</td>\n",
       "      <td>8</td>\n",
       "      <td>14</td>\n",
       "      <td>5525</td>\n",
       "      <td>547</td>\n",
       "      <td>2526</td>\n",
       "      <td>1195</td>\n",
       "      <td>1979</td>\n",
       "      <td>4248</td>\n",
       "      <td>1088</td>\n",
       "      <td>260</td>\n",
       "      <td>5514</td>\n",
       "      <td>2350</td>\n",
       "      <td>12674</td>\n",
       "      <td>13958</td>\n",
       "      <td>10566</td>\n",
       "      <td>8456</td>\n",
       "      <td>10155</td>\n",
       "      <td>8571</td>\n",
       "      <td>2696</td>\n",
       "    </tr>\n",
       "    <tr>\n",
       "      <th>top</th>\n",
       "      <td>DEPARTMENT OF CORRECTIONS</td>\n",
       "      <td>Texas</td>\n",
       "      <td>1-Regular local school district that is NOT a ...</td>\n",
       "      <td>=\"03-Elementary/secondary school system\"</td>\n",
       "      <td>21-Suburb: Large</td>\n",
       "      <td>†</td>\n",
       "      <td>=\"0\"</td>\n",
       "      <td>†</td>\n",
       "      <td>=\"0\"</td>\n",
       "      <td>=\"0\"</td>\n",
       "      <td>†</td>\n",
       "      <td>†</td>\n",
       "      <td>=\"0\"</td>\n",
       "      <td>=\"0\"</td>\n",
       "      <td>†</td>\n",
       "      <td>–</td>\n",
       "      <td>†</td>\n",
       "      <td>†</td>\n",
       "      <td>=\"0\"</td>\n",
       "      <td>†</td>\n",
       "      <td>†</td>\n",
       "      <td>=\"0\"</td>\n",
       "    </tr>\n",
       "    <tr>\n",
       "      <th>freq</th>\n",
       "      <td>6</td>\n",
       "      <td>1243</td>\n",
       "      <td>13147</td>\n",
       "      <td>11393</td>\n",
       "      <td>3416</td>\n",
       "      <td>1561</td>\n",
       "      <td>3017</td>\n",
       "      <td>1561</td>\n",
       "      <td>2814</td>\n",
       "      <td>1743</td>\n",
       "      <td>1561</td>\n",
       "      <td>1561</td>\n",
       "      <td>5397</td>\n",
       "      <td>1619</td>\n",
       "      <td>2763</td>\n",
       "      <td>1185</td>\n",
       "      <td>1510</td>\n",
       "      <td>2587</td>\n",
       "      <td>5620</td>\n",
       "      <td>1510</td>\n",
       "      <td>6517</td>\n",
       "      <td>2483</td>\n",
       "    </tr>\n",
       "  </tbody>\n",
       "</table>\n",
       "</div>"
      ],
      "text/plain": [
       "                      Agency Name  ... Federal Rev. - Federal Title I Revenue (C14) [District Finance] 2017-18\n",
       "count                       19055  ...                                              19055                     \n",
       "unique                      18511  ...                                               2696                     \n",
       "top     DEPARTMENT OF CORRECTIONS  ...                                               =\"0\"                     \n",
       "freq                            6  ...                                               2483                     \n",
       "\n",
       "[4 rows x 22 columns]"
      ]
     },
     "execution_count": 5,
     "metadata": {},
     "output_type": "execute_result"
    }
   ],
   "source": [
    "#Split the data into years 2015-16, 2016-17 and 2017-18\n",
    "years_15_16 = df[['Agency Name', 'State Name [District] Latest available year', 'Agency Type [District] 2015-16', 'School District Level Code (SCHLEV) [District Finance] 2015-16', 'Urban-centric Locale [District] 2015-16','Total Students All Grades (Includes AE) [District] 2015-16','American Indian/Alaska Native Students [District] 2015-16', 'Hispanic Students [District] 2015-16','Asian or Asian/Pacific Islander Students [District] 2015-16','Black or African American Students [District] 2015-16','White Students [District] 2015-16','Two or More Races Students [District] 2015-16','Nat. Hawaiian or Other Pacific Isl. Students [District] 2015-16','Total Race/Ethnicity [District] 2015-16','Pupil/Teacher Ratio [District] 2015-16','Total Staff [District] 2015-16','Total General Revenue (TOTALREV) [District Finance] 2015-16','Total Revenue (TOTALREV) per Pupil (V33) [District Finance] 2015-16','Long Term Debt - Outstanding Beginning of FY (_19H) [District Finance] 2015-16','State Rev. - General Formula Assistance (C01) [District Finance] 2015-16','Local Rev. - Property Taxes (T06) [District Finance] 2015-16','Federal Rev. - Federal Title I Revenue (C14) [District Finance] 2015-16']].copy()\n",
    "#years_15_16.info()\n",
    "\n",
    "years_16_17 = df[['Agency Name', 'State Name [District] Latest available year', 'Agency Type [District] 2016-17', 'School District Level Code (SCHLEV) [District Finance] 2016-17', 'Urban-centric Locale [District] 2016-17','Total Students All Grades (Includes AE) [District] 2016-17','American Indian/Alaska Native Students [District] 2016-17', 'Hispanic Students [District] 2016-17','Asian or Asian/Pacific Islander Students [District] 2016-17','Black or African American Students [District] 2016-17','White Students [District] 2016-17','Two or More Races Students [District] 2016-17','Nat. Hawaiian or Other Pacific Isl. Students [District] 2016-17','Total Race/Ethnicity [District] 2016-17','Pupil/Teacher Ratio [District] 2016-17','Total Staff [District] 2016-17','Total General Revenue (TOTALREV) [District Finance] 2016-17','Total Revenue (TOTALREV) per Pupil (V33) [District Finance] 2016-17','Long Term Debt - Outstanding Beginning of FY (_19H) [District Finance] 2016-17','State Rev. - General Formula Assistance (C01) [District Finance] 2016-17','Local Rev. - Property Taxes (T06) [District Finance] 2016-17','Federal Rev. - Federal Title I Revenue (C14) [District Finance] 2016-17']].copy()\n",
    "#years_16_17.info()\n",
    "\n",
    "years_17_18 = df[['Agency Name', 'State Name [District] Latest available year', 'Agency Type [District] 2017-18', 'School District Level Code (SCHLEV) [District Finance] 2017-18', 'Urban-centric Locale [District] 2017-18','Total Students All Grades (Includes AE) [District] 2017-18','American Indian/Alaska Native Students [District] 2017-18', 'Hispanic Students [District] 2017-18','Asian or Asian/Pacific Islander Students [District] 2017-18','Black or African American Students [District] 2017-18','White Students [District] 2017-18','Two or More Races Students [District] 2017-18','Nat. Hawaiian or Other Pacific Isl. Students [District] 2017-18','Total Race/Ethnicity [District] 2017-18','Pupil/Teacher Ratio [District] 2017-18','Total Staff [District] 2017-18','Total General Revenue (TOTALREV) [District Finance] 2017-18','Total Revenue (TOTALREV) per Pupil (V33) [District Finance] 2017-18','Long Term Debt - Outstanding Beginning of FY (_19H) [District Finance] 2017-18','State Rev. - General Formula Assistance (C01) [District Finance] 2017-18','Local Rev. - Property Taxes (T06) [District Finance] 2017-18','Federal Rev. - Federal Title I Revenue (C14) [District Finance] 2017-18']].copy()\n",
    "years_17_18.describe()"
   ]
  },
  {
   "cell_type": "markdown",
   "id": "4kcaOdc7cExd",
   "metadata": {
    "id": "4kcaOdc7cExd"
   },
   "source": [
    "- Created labels for each year's real value columns\n",
    "- Converted string data to 0."
   ]
  },
  {
   "cell_type": "code",
   "execution_count": 6,
   "id": "uG2R5JomcgXj",
   "metadata": {
    "id": "uG2R5JomcgXj"
   },
   "outputs": [],
   "source": [
    "#Set real labels\n",
    "realcol_2015_16 = ['Total Students All Grades (Includes AE) [District] 2015-16','American Indian/Alaska Native Students [District] 2015-16', 'Hispanic Students [District] 2015-16','Asian or Asian/Pacific Islander Students [District] 2015-16','Black or African American Students [District] 2015-16','White Students [District] 2015-16','Two or More Races Students [District] 2015-16','Nat. Hawaiian or Other Pacific Isl. Students [District] 2015-16','Total Race/Ethnicity [District] 2015-16','Pupil/Teacher Ratio [District] 2015-16','Total Staff [District] 2015-16','Total General Revenue (TOTALREV) [District Finance] 2015-16','Long Term Debt - Outstanding Beginning of FY (_19H) [District Finance] 2015-16','State Rev. - General Formula Assistance (C01) [District Finance] 2015-16','Local Rev. - Property Taxes (T06) [District Finance] 2015-16','Federal Rev. - Federal Title I Revenue (C14) [District Finance] 2015-16']\n",
    "realcol_2016_17 = ['Total Students All Grades (Includes AE) [District] 2016-17','American Indian/Alaska Native Students [District] 2016-17', 'Hispanic Students [District] 2016-17','Asian or Asian/Pacific Islander Students [District] 2016-17','Black or African American Students [District] 2016-17','White Students [District] 2016-17','Two or More Races Students [District] 2016-17','Nat. Hawaiian or Other Pacific Isl. Students [District] 2016-17','Total Race/Ethnicity [District] 2016-17','Pupil/Teacher Ratio [District] 2016-17','Total Staff [District] 2016-17','Total General Revenue (TOTALREV) [District Finance] 2016-17','Long Term Debt - Outstanding Beginning of FY (_19H) [District Finance] 2016-17','State Rev. - General Formula Assistance (C01) [District Finance] 2016-17','Local Rev. - Property Taxes (T06) [District Finance] 2016-17','Federal Rev. - Federal Title I Revenue (C14) [District Finance] 2016-17']\n",
    "realcol_2017_18 = ['Total Students All Grades (Includes AE) [District] 2017-18','American Indian/Alaska Native Students [District] 2017-18', 'Hispanic Students [District] 2017-18','Asian or Asian/Pacific Islander Students [District] 2017-18','Black or African American Students [District] 2017-18','White Students [District] 2017-18','Two or More Races Students [District] 2017-18','Nat. Hawaiian or Other Pacific Isl. Students [District] 2017-18','Total Race/Ethnicity [District] 2017-18','Pupil/Teacher Ratio [District] 2017-18','Total Staff [District] 2017-18','Total General Revenue (TOTALREV) [District Finance] 2017-18','Long Term Debt - Outstanding Beginning of FY (_19H) [District Finance] 2017-18','State Rev. - General Formula Assistance (C01) [District Finance] 2017-18','Local Rev. - Property Taxes (T06) [District Finance] 2017-18','Federal Rev. - Federal Title I Revenue (C14) [District Finance] 2017-18']\n",
    "\n",
    "#Continue cleaning data to account for uninterpretable strings\n",
    "years_15_16[realcol_2015_16] = years_15_16[realcol_2015_16].apply(pd.to_numeric, errors='coerce') #Converts uninterpretable data into NaN's\n",
    "#years_15_16.fillna(years_15_16[realcol_2015_16].mean(), inplace=True) #Convert NaN's into  mean\n",
    "years_15_16.fillna(0, inplace=True) #Convert NaN's into interpretable data\n",
    "#print(years_15_16.head(25))\n",
    "\n",
    "years_16_17[realcol_2016_17] = years_16_17[realcol_2016_17].apply(pd.to_numeric, errors='coerce') #Converts uninterpretable data into NaN's\n",
    "#years_16_17.fillna(years_16_17[realcol_2016_17].mean(), inplace=True) #Convert NaN's into  mean\n",
    "years_16_17.fillna(0, inplace=True) #Convert NaN's into interpretable data\n",
    "#print(years_16_17.head(5))\n",
    "\n",
    "years_17_18[realcol_2017_18] = years_17_18[realcol_2017_18].apply(pd.to_numeric, errors='coerce') #Converts uninterpretable data into NaN's\n",
    "#years_17_18.fillna(years_17_18[realcol_2017_18].mean(), inplace=True) #Convert NaN's into  mean\n",
    "years_17_18.fillna(0, inplace=True) #Convert NaN's into interpretable data\n",
    "#print(years_17_18.head(5))"
   ]
  },
  {
   "cell_type": "markdown",
   "id": "28mKeA6XxVRs",
   "metadata": {
    "id": "28mKeA6XxVRs"
   },
   "source": [
    "- \"Describe what you did to create the poverty labels\""
   ]
  },
  {
   "cell_type": "code",
   "execution_count": 7,
   "id": "6e5e06aa",
   "metadata": {
    "colab": {
     "base_uri": "https://localhost:8080/"
    },
    "id": "6e5e06aa",
    "outputId": "0950881f-82ca-426c-c2f5-c9e827a9c0e3"
   },
   "outputs": [
    {
     "name": "stdout",
     "output_type": "stream",
     "text": [
      "       Total Students All Grades (Includes AE) [District] 2015-16  ...  Poverty Level\n",
      "count                                       19055.000000           ...   19055.000000\n",
      "mean                                         2640.407557           ...       1.024088\n",
      "std                                         10440.310226           ...       0.771526\n",
      "min                                             0.000000           ...       0.000000\n",
      "25%                                           177.000000           ...       0.000000\n",
      "50%                                           626.000000           ...       1.000000\n",
      "75%                                          1974.000000           ...       2.000000\n",
      "max                                        639337.000000           ...       2.000000\n",
      "\n",
      "[8 rows x 9 columns]\n"
     ]
    }
   ],
   "source": [
    "years_15_16['Total Revenue (TOTALREV) per Pupil (V33) [District Finance] 2015-16'] = years_15_16['Total Revenue (TOTALREV) per Pupil (V33) [District Finance] 2015-16'].apply(pd.to_numeric, errors='coerce') #Converts uninterpretable data into NaN's\n",
    "years_15_16.fillna(0, inplace=True) #Convert NaN's into interpretable data\n",
    "years_15_16['cStrict Poverty'] = years_15_16['Total Revenue (TOTALREV) per Pupil (V33) [District Finance] 2015-16'] < 10000\n",
    "years_15_16['bHigh Poverty'] = years_15_16['Total Revenue (TOTALREV) per Pupil (V33) [District Finance] 2015-16'] < 15000\n",
    "years_15_16['aNo Poverty'] = years_15_16['Total Revenue (TOTALREV) per Pupil (V33) [District Finance] 2015-16'] > 15000\n",
    "years_15_16['bHigh Poverty'].where(years_15_16['cStrict Poverty'] == False, other=False, inplace=True)\n",
    "years_15_16['bHigh Poverty'].fillna(value=False, inplace=True)\n",
    "years_15_16['Poverty Level'] = years_15_16.loc[:,['cStrict Poverty', 'bHigh Poverty', 'aNo Poverty']].eq(True).idxmax(axis=1).astype('category').cat.codes\n",
    "\n",
    "years_16_17['Total Revenue (TOTALREV) per Pupil (V33) [District Finance] 2016-17'] = years_16_17['Total Revenue (TOTALREV) per Pupil (V33) [District Finance] 2016-17'].apply(pd.to_numeric, errors='coerce') #Converts uninterpretable data into NaN's\n",
    "years_16_17.fillna(0, inplace=True) #Convert NaN's into interpretable data\n",
    "years_16_17['cStrict Poverty'] = years_16_17['Total Revenue (TOTALREV) per Pupil (V33) [District Finance] 2016-17'] < 10000\n",
    "years_16_17['bHigh Poverty'] = years_16_17['Total Revenue (TOTALREV) per Pupil (V33) [District Finance] 2016-17'] < 15000\n",
    "years_16_17['aNo Poverty'] = years_16_17['Total Revenue (TOTALREV) per Pupil (V33) [District Finance] 2016-17'] > 15000\n",
    "years_16_17['bHigh Poverty'].where(years_16_17['cStrict Poverty'] == False, other=False, inplace=True)\n",
    "years_16_17['bHigh Poverty'].fillna(value=False, inplace=True)\n",
    "years_16_17['Poverty Level'] = years_16_17.loc[:,['cStrict Poverty', 'bHigh Poverty', 'aNo Poverty']].eq(True).idxmax(axis=1).astype('category').cat.codes\n",
    "\n",
    "years_17_18['Total Revenue (TOTALREV) per Pupil (V33) [District Finance] 2017-18'] = years_17_18['Total Revenue (TOTALREV) per Pupil (V33) [District Finance] 2017-18'].apply(pd.to_numeric, errors='coerce') #Converts uninterpretable data into NaN's\n",
    "years_17_18.fillna(0, inplace=True) #Convert NaN's into interpretable data\n",
    "years_17_18['cStrict Poverty'] = years_17_18['Total Revenue (TOTALREV) per Pupil (V33) [District Finance] 2017-18'] < 10000\n",
    "years_17_18['bHigh Poverty'] = years_17_18['Total Revenue (TOTALREV) per Pupil (V33) [District Finance] 2017-18'] < 15000\n",
    "years_17_18['aNo Poverty'] = years_17_18['Total Revenue (TOTALREV) per Pupil (V33) [District Finance] 2017-18'] > 15000\n",
    "years_17_18['bHigh Poverty'].where(years_17_18['cStrict Poverty'] == False, other=False, inplace=True)\n",
    "years_17_18['bHigh Poverty'].fillna(value=False, inplace=True)\n",
    "years_17_18['Poverty Level'] = years_17_18.loc[:,['cStrict Poverty', 'bHigh Poverty', 'aNo Poverty']].eq(True).idxmax(axis=1).astype('category').cat.codes\n",
    "\n",
    "#Remove labels used\n",
    "years_15_16.drop(labels=['Total Revenue (TOTALREV) per Pupil (V33) [District Finance] 2015-16','cStrict Poverty','bHigh Poverty','aNo Poverty'], axis=1, inplace=True)\n",
    "years_16_17.drop(labels=['Total Revenue (TOTALREV) per Pupil (V33) [District Finance] 2016-17','cStrict Poverty','bHigh Poverty','aNo Poverty'], axis=1, inplace=True)\n",
    "years_17_18.drop(labels=['Total Revenue (TOTALREV) per Pupil (V33) [District Finance] 2017-18','cStrict Poverty','bHigh Poverty','aNo Poverty'], axis=1, inplace=True)\n",
    "\n",
    "new_years_15_16 = years_15_16[['School District Level Code (SCHLEV) [District Finance] 2015-16', 'Urban-centric Locale [District] 2015-16','Total Students All Grades (Includes AE) [District] 2015-16','American Indian/Alaska Native Students [District] 2015-16', 'Hispanic Students [District] 2015-16','Asian or Asian/Pacific Islander Students [District] 2015-16','Black or African American Students [District] 2015-16','White Students [District] 2015-16','Two or More Races Students [District] 2015-16','Nat. Hawaiian or Other Pacific Isl. Students [District] 2015-16','Poverty Level']].copy()\n",
    "print(new_years_15_16.describe())"
   ]
  },
  {
   "cell_type": "code",
   "execution_count": 8,
   "id": "13vRjxdhCQwS",
   "metadata": {
    "colab": {
     "base_uri": "https://localhost:8080/",
     "height": 1000
    },
    "id": "13vRjxdhCQwS",
    "outputId": "9a64035f-c23f-48aa-c44d-05eb96ae0448"
   },
   "outputs": [
    {
     "data": {
      "text/plain": [
       "<matplotlib.axes._subplots.AxesSubplot at 0x7fc59700ea50>"
      ]
     },
     "execution_count": 8,
     "metadata": {},
     "output_type": "execute_result"
    },
    {
     "data": {
      "image/png": "[encoded data removed]",
      "text/plain": [
       "<Figure size 1440x1440 with 2 Axes>"
      ]
     },
     "metadata": {
      "needs_background": "light"
     },
     "output_type": "display_data"
    }
   ],
   "source": [
    "plt.figure(figsize=(20,20))\n",
    "#sns.pairplot(years_15_16)\n",
    "sns.heatmap(new_years_15_16.corr(),annot=True,cmap='coolwarm',vmin=-1)\n",
    "#sns.heatmap(years_16_17.corr(),annot=True,cmap='coolwarm',vmin=-1)\n",
    "#sns.heatmap(years_17_18.corr(),annot=True,cmap='coolwarm',vmin=-1)"
   ]
  },
  {
   "cell_type": "markdown",
   "id": "0kCQhvS-mwSi",
   "metadata": {
    "id": "0kCQhvS-mwSi"
   },
   "source": [
    "- Set catagorical columns into dummy variables."
   ]
  },
  {
   "cell_type": "code",
   "execution_count": 9,
   "id": "zH__kFPVmq-D",
   "metadata": {
    "id": "zH__kFPVmq-D"
   },
   "outputs": [],
   "source": [
    "col_2015_16 = [\"Agency Type [District] 2015-16\", \"School District Level Code (SCHLEV) [District Finance] 2015-16\", \"Urban-centric Locale [District] 2015-16\"]\n",
    "col_2016_17 = [\"Agency Type [District] 2016-17\", \"School District Level Code (SCHLEV) [District Finance] 2016-17\", \"Urban-centric Locale [District] 2016-17\"]\n",
    "col_2017_18 = [\"Agency Type [District] 2017-18\", \"School District Level Code (SCHLEV) [District Finance] 2017-18\", \"Urban-centric Locale [District] 2017-18\"]\n",
    "\n",
    "years_15_16 = pd.get_dummies(years_15_16, columns=col_2015_16)\n",
    "years_16_17 = pd.get_dummies(years_16_17, columns=col_2016_17)\n",
    "years_17_18 = pd.get_dummies(years_17_18, columns=col_2017_18)\n",
    "\n",
    "#Delete if we dont need below\n",
    "\n",
    "#years_15_16.join(pd.get_dummies(years_15_16['Urban-centric Locale [District] 2015-16']))\n",
    "#years_15_16.drop('Urban-centric Locale [District] 2015-16', inplace=True, axis=1)\n",
    "\n",
    "#years_16_17.join(pd.get_dummies(years_16_17['Urban-centric Locale [District] 2016-17']))\n",
    "#years_16_17.drop('Urban-centric Locale [District] 2016-17', inplace=True, axis=1)\n",
    "\n",
    "#years_17_18.join(pd.get_dummies(years_17_18['Urban-centric Locale [District] 2017-18']))\n",
    "#years_17_18.drop('Urban-centric Locale [District] 2017-18', inplace=True, axis=1)\n"
   ]
  },
  {
   "cell_type": "markdown",
   "id": "BeYsl9Ng_--T",
   "metadata": {
    "id": "BeYsl9Ng_--T"
   },
   "source": [
    "- After analyzing the heatmap it was observed that the Pupil/Teacher ratio column is in most negative correlation while the American Indian/Alaskan native students column is in most postive correlation with the poverty column."
   ]
  },
  {
   "cell_type": "code",
   "execution_count": 10,
   "id": "1oJYBHPCFx8B",
   "metadata": {
    "colab": {
     "base_uri": "https://localhost:8080/",
     "height": 296
    },
    "id": "1oJYBHPCFx8B",
    "outputId": "e3d33f14-ae7f-440b-e4a6-89429a4797e4"
   },
   "outputs": [
    {
     "data": {
      "text/plain": [
       "<matplotlib.axes._subplots.AxesSubplot at 0x7fc5970150d0>"
      ]
     },
     "execution_count": 10,
     "metadata": {},
     "output_type": "execute_result"
    },
    {
     "data": {
      "image/png": "[encoded data removed]",
      "text/plain": [
       "<Figure size 432x288 with 1 Axes>"
      ]
     },
     "metadata": {
      "needs_background": "light"
     },
     "output_type": "display_data"
    }
   ],
   "source": [
    "sns.scatterplot(data=years_15_16, x=\"Pupil/Teacher Ratio [District] 2015-16\", y=\"Poverty Level\")"
   ]
  },
  {
   "cell_type": "code",
   "execution_count": 11,
   "id": "d0Ri7_eWG40C",
   "metadata": {
    "colab": {
     "base_uri": "https://localhost:8080/",
     "height": 296
    },
    "id": "d0Ri7_eWG40C",
    "outputId": "acd7d215-b6a2-4663-956d-b37d768d51c3"
   },
   "outputs": [
    {
     "data": {
      "text/plain": [
       "<matplotlib.axes._subplots.AxesSubplot at 0x7fc58c938c10>"
      ]
     },
     "execution_count": 11,
     "metadata": {},
     "output_type": "execute_result"
    },
    {
     "data": {
      "image/png": "[encoded data removed]",
      "text/plain": [
       "<Figure size 432x288 with 1 Axes>"
      ]
     },
     "metadata": {
      "needs_background": "light"
     },
     "output_type": "display_data"
    }
   ],
   "source": [
    "sns.scatterplot(data=years_15_16, x=\"American Indian/Alaska Native Students [District] 2015-16\", y=\"Poverty Level\")"
   ]
  },
  {
   "cell_type": "markdown",
   "id": "40b5b519",
   "metadata": {
    "id": "40b5b519"
   },
   "source": [
    "- \"Describe what you guys did for feature selection\""
   ]
  },
  {
   "cell_type": "code",
   "execution_count": 12,
   "id": "5a1bc490",
   "metadata": {
    "id": "5a1bc490"
   },
   "outputs": [],
   "source": [
    "col_remove = ['Agency Name', 'State Name [District] Latest available year']\n",
    "\n",
    "col_remove_2017_18 = ['American Indian/Alaska Native Students [District] 2017-18','Nat. Hawaiian or Other Pacific Isl. Students [District] 2017-18','Total General Revenue (TOTALREV) [District Finance] 2017-18','Long Term Debt - Outstanding Beginning of FY (_19H) [District Finance] 2017-18','State Rev. - General Formula Assistance (C01) [District Finance] 2017-18']\n",
    "years_17_18.drop(columns=col_remove+col_remove_2017_18, inplace=True)\n",
    "\n",
    "col_remove_2016_17 = []\n",
    "for col in col_remove_2017_18:\n",
    "    col_remove_2016_17.append(col[:-7]+\"2016-17\")\n",
    "years_16_17.drop(columns=col_remove+col_remove_2016_17, inplace=True)\n",
    "\n",
    "col_remove_2015_16 = []\n",
    "for col in col_remove_2017_18:\n",
    "    col_remove_2015_16.append(col[:-7]+\"2015-16\")\n",
    "years_15_16.drop(columns=col_remove+col_remove_2015_16, inplace=True)"
   ]
  },
  {
   "cell_type": "code",
   "execution_count": 13,
   "id": "JZjdEqSrZFgb",
   "metadata": {
    "colab": {
     "base_uri": "https://localhost:8080/"
    },
    "id": "JZjdEqSrZFgb",
    "outputId": "4378f3c8-2470-4aef-8ad3-4dde75782019"
   },
   "outputs": [
    {
     "name": "stdout",
     "output_type": "stream",
     "text": [
      "Index(['Total Students All Grades (Includes AE) [District] 2015-16',\n",
      "       'Hispanic Students [District] 2015-16',\n",
      "       'Asian or Asian/Pacific Islander Students [District] 2015-16',\n",
      "       'Black or African American Students [District] 2015-16',\n",
      "       'White Students [District] 2015-16',\n",
      "       'Two or More Races Students [District] 2015-16',\n",
      "       'Total Race/Ethnicity [District] 2015-16',\n",
      "       'Pupil/Teacher Ratio [District] 2015-16',\n",
      "       'Total Staff [District] 2015-16',\n",
      "       'Local Rev. - Property Taxes (T06) [District Finance] 2015-16',\n",
      "       'Federal Rev. - Federal Title I Revenue (C14) [District Finance] 2015-16',\n",
      "       'Agency Type [District] 2015-16_0',\n",
      "       'Agency Type [District] 2015-16_1-Regular local school district that is NOT a component of a supervisory union',\n",
      "       'Agency Type [District] 2015-16_2-Local school district that is a component of a supervisory union',\n",
      "       'Agency Type [District] 2015-16_3-Supervisory union administrative center (or county superintendent's office serving the same purpose)',\n",
      "       'Agency Type [District] 2015-16_4-Regional Education Service Agency (RESA)',\n",
      "       'Agency Type [District] 2015-16_5-State agency providing elementary and/or secondary level instruction',\n",
      "       'Agency Type [District] 2015-16_6-Federal agency providing elementary and/or secondary level instruction',\n",
      "       'Agency Type [District] 2015-16_7-Independent Charter District',\n",
      "       'Agency Type [District] 2015-16_8-Other education agencies',\n",
      "       'Agency Type [District] 2015-16_†',\n",
      "       'School District Level Code (SCHLEV) [District Finance] 2015-16_0',\n",
      "       'School District Level Code (SCHLEV) [District Finance] 2015-16_=\"01-Elementary school system only\"',\n",
      "       'School District Level Code (SCHLEV) [District Finance] 2015-16_=\"02-Secondary school system only\"',\n",
      "       'School District Level Code (SCHLEV) [District Finance] 2015-16_=\"03-Elementary/secondary school system\"',\n",
      "       'School District Level Code (SCHLEV) [District Finance] 2015-16_=\"05-Vocational or special education school system\"',\n",
      "       'School District Level Code (SCHLEV) [District Finance] 2015-16_=\"06-Nonoperating school system\"',\n",
      "       'School District Level Code (SCHLEV) [District Finance] 2015-16_=\"07-Educational service agency\"',\n",
      "       'School District Level Code (SCHLEV) [District Finance] 2015-16_†',\n",
      "       'Urban-centric Locale [District] 2015-16_0',\n",
      "       'Urban-centric Locale [District] 2015-16_11-City: Large',\n",
      "       'Urban-centric Locale [District] 2015-16_12-City: Mid-size',\n",
      "       'Urban-centric Locale [District] 2015-16_13-City: Small',\n",
      "       'Urban-centric Locale [District] 2015-16_21-Suburb: Large',\n",
      "       'Urban-centric Locale [District] 2015-16_22-Suburb: Mid-size',\n",
      "       'Urban-centric Locale [District] 2015-16_23-Suburb: Small',\n",
      "       'Urban-centric Locale [District] 2015-16_31-Town: Fringe',\n",
      "       'Urban-centric Locale [District] 2015-16_32-Town: Distant',\n",
      "       'Urban-centric Locale [District] 2015-16_33-Town: Remote',\n",
      "       'Urban-centric Locale [District] 2015-16_41-Rural: Fringe',\n",
      "       'Urban-centric Locale [District] 2015-16_42-Rural: Distant',\n",
      "       'Urban-centric Locale [District] 2015-16_43-Rural: Remote',\n",
      "       'Urban-centric Locale [District] 2015-16_†'],\n",
      "      dtype='object')\n",
      "(19055, 43) (19055, 1)\n"
     ]
    }
   ],
   "source": [
    "# Assign values to y\n",
    "lab_col = ['Poverty Level']\n",
    "\n",
    "y = years_15_16[lab_col].values\n",
    "# Drop column from data frame\n",
    "\n",
    "years_15_16.drop(columns=lab_col, inplace=True)\n",
    "\n",
    "# Assign predictor values to x\n",
    "x = years_15_16.values\n",
    "\n",
    "print(years_15_16.columns) #for feature names in decision tree\n",
    "\n",
    "print(x.shape, y.shape)\n",
    "\n",
    "xtrain, xtest, ytrain, ytest = train_test_split(x,y, test_size = 0.2, random_state=1)"
   ]
  },
  {
   "cell_type": "markdown",
   "id": "lqiRTFI-z0m6",
   "metadata": {
    "id": "lqiRTFI-z0m6"
   },
   "source": [
    "- Here we created normalized copies of our train data"
   ]
  },
  {
   "cell_type": "code",
   "execution_count": 14,
   "id": "h7-dhm5O0AVx",
   "metadata": {
    "id": "h7-dhm5O0AVx"
   },
   "outputs": [],
   "source": [
    "x_train_normalized = preprocessing.normalize(xtrain)\n",
    "x_test_normalized = preprocessing.normalize(xtest)"
   ]
  },
  {
   "cell_type": "markdown",
   "id": "fyoWwVEE0mIX",
   "metadata": {
    "id": "fyoWwVEE0mIX"
   },
   "source": [
    "- Followed by standardized copies of our train/test data"
   ]
  },
  {
   "cell_type": "code",
   "execution_count": 15,
   "id": "Jomsb36y0rqu",
   "metadata": {
    "id": "Jomsb36y0rqu"
   },
   "outputs": [],
   "source": [
    "std_scale = preprocessing.StandardScaler().fit(xtrain)\n",
    "x_train_std = std_scale.transform(xtrain)\n",
    "x_test_std  = std_scale.transform(xtest)\n",
    "#y_train_std = std_scale.transform(ytrain)"
   ]
  },
  {
   "cell_type": "markdown",
   "id": "17e0c79d",
   "metadata": {
    "id": "17e0c79d"
   },
   "source": [
    "Linear Regression ** I think we should focus on decision tree classification"
   ]
  },
  {
   "cell_type": "code",
   "execution_count": 16,
   "id": "01052b25",
   "metadata": {
    "colab": {
     "base_uri": "https://localhost:8080/"
    },
    "id": "01052b25",
    "outputId": "f8b68b95-3bba-4a1b-f835-803465957a35"
   },
   "outputs": [
    {
     "data": {
      "text/plain": [
       "(0.40681321269717874, 0.3813846156573968)"
      ]
     },
     "execution_count": 16,
     "metadata": {},
     "output_type": "execute_result"
    }
   ],
   "source": [
    "reg = linear_model.LinearRegression()\n",
    "reg.fit(xtrain,ytrain)\n",
    "reg.score(xtest,ytest)\n",
    "\n",
    "# Calculate the score on train and test sets\n",
    "# Your code goes below\n",
    "reg.score(xtrain,ytrain), reg.score(xtest,ytest)"
   ]
  },
  {
   "cell_type": "markdown",
   "id": "e00ac150",
   "metadata": {
    "id": "e00ac150"
   },
   "source": [
    "Decision Tree"
   ]
  },
  {
   "cell_type": "code",
   "execution_count": 17,
   "id": "a2583147",
   "metadata": {
    "colab": {
     "base_uri": "https://localhost:8080/",
     "height": 52
    },
    "id": "a2583147",
    "outputId": "f32fc0fe-0b1d-4a6e-ced6-00116759de04"
   },
   "outputs": [
    {
     "name": "stdout",
     "output_type": "stream",
     "text": [
      "(0.8098268171083705, 0.7488848071372344)\n"
     ]
    },
    {
     "data": {
      "text/plain": [
       "<Figure size 720x720 with 0 Axes>"
      ]
     },
     "metadata": {},
     "output_type": "display_data"
    }
   ],
   "source": [
    "dtc = tree.DecisionTreeClassifier(max_depth=10)\n",
    "dtc.fit(xtrain, ytrain)\n",
    "#dtc.fit(x_train_std, ytrain)\n",
    "\n",
    "fig = plt.figure(figsize=(10,10))\n",
    "#tree.plot_tree(dtc, feature_names = years_15_16.columns, filled=True)\n",
    "\n",
    "fig.savefig(\"decision_tree.pdf\")\n",
    "\n",
    "dtc_pred = dtc.score(xtrain, ytrain), dtc.score(xtest,ytest)\n",
    "print(dtc_pred)"
   ]
  },
  {
   "cell_type": "code",
   "execution_count": 18,
   "id": "h1unvHjVbz3N",
   "metadata": {
    "colab": {
     "base_uri": "https://localhost:8080/"
    },
    "id": "h1unvHjVbz3N",
    "outputId": "e592532c-c550-4349-8e0f-fd856797c990"
   },
   "outputs": [
    {
     "name": "stdout",
     "output_type": "stream",
     "text": [
      "Pipeline(steps=[('scaler', StandardScaler()),\n",
      "                ('decsT', DecisionTreeClassifier())])\n"
     ]
    }
   ],
   "source": [
    "pipe_steps = [('scaler', StandardScaler()),('decsT', DecisionTreeClassifier())]\n",
    "\n",
    "check_params = {'decsT__criterion':['gini','entropy'],\n",
    "                'decsT__max_depth':np.arange(5,15)}\n",
    "\n",
    "pline = Pipeline(pipe_steps)\n",
    "print(pline)"
   ]
  },
  {
   "cell_type": "code",
   "execution_count": 19,
   "id": "AhZqLVIfffq0",
   "metadata": {
    "colab": {
     "base_uri": "https://localhost:8080/",
     "height": 205,
     "referenced_widgets": [
      "86f38835edca41b88ecbc327237ce8a6",
      "ed1f89fbedc741da8225411b38a7c783",
      "c6244e356801412795bc0111a6145f8e",
      "dc898e8b3dd84c2db305c516b6a931a7",
      "c317e541aa96422abb4af696aa67b57d",
      "63c48401e64c49a98adf2acfe3a954d1",
      "21fe03e4f472418595d17b5f8e49b59e",
      "d86cbb8d5a484416b627893fc68fdfc4",
      "764e77b54bb1468e8d26dd3b0652598e",
      "cb1ccfe3651e465d9f17849b19f5e471",
      "08d1a941c29641ef9efb7ef010a234ca"
     ]
    },
    "id": "AhZqLVIfffq0",
    "outputId": "39852a62-3dfe-44c7-dd2f-f7bca4512b61"
   },
   "outputs": [
    {
     "data": {
      "application/vnd.jupyter.widget-view+json": {
       "model_id": "86f38835edca41b88ecbc327237ce8a6",
       "version_major": 2,
       "version_minor": 0
      },
      "text/plain": [
       "  0%|          | 0/3 [00:00<?, ?it/s]"
      ]
     },
     "metadata": {},
     "output_type": "display_data"
    },
    {
     "name": "stdout",
     "output_type": "stream",
     "text": [
      "score for 3 fold CV:= 0.75\n",
      "Best fit parameters from GridSearchCV: \n",
      "{'decsT__criterion': 'gini', 'decsT__max_depth': 10}\n",
      "score for 4 fold CV:= 0.75\n",
      "Best fit parameters from GridSearchCV: \n",
      "{'decsT__criterion': 'entropy', 'decsT__max_depth': 10}\n",
      "score for 5 fold CV:= 0.74\n",
      "Best fit parameters from GridSearchCV: \n",
      "{'decsT__criterion': 'gini', 'decsT__max_depth': 11}\n"
     ]
    }
   ],
   "source": [
    "from tqdm import tqdm_notebook as tqdm\n",
    "import warnings\n",
    "from sklearn.model_selection import GridSearchCV\n",
    "\n",
    "warnings.filterwarnings(\"ignore\")\n",
    "\n",
    "for cv in tqdm(range(3,6)):\n",
    "  create_grid = GridSearchCV(pline, param_grid=check_params, cv=cv)\n",
    "  create_grid.fit(xtrain,ytrain)\n",
    "  print('score for %d fold CV:= %3.2f' %(cv, create_grid.score(xtest,ytest)))\n",
    "  print('Best fit parameters from GridSearchCV: ')\n",
    "  print(create_grid.best_params_)"
   ]
  }
 ],
 "metadata": {
  "colab": {
   "collapsed_sections": [],
   "name": "Project-Proposal.ipynb",
   "provenance": []
  },
  "kernelspec": {
   "display_name": "Python 3 (ipykernel)",
   "language": "python",
   "name": "python3"
  },
  "language_info": {
   "codemirror_mode": {
    "name": "ipython",
    "version": 3
   },
   "file_extension": ".py",
   "mimetype": "text/x-python",
   "name": "python",
   "nbconvert_exporter": "python",
   "pygments_lexer": "ipython3",
   "version": "3.10.9"
  },
  "widgets": {
   "application/vnd.jupyter.widget-state+json": {
    "08d1a941c29641ef9efb7ef010a234ca": {
     "model_module": "@jupyter-widgets/base",
     "model_module_version": "1.2.0",
     "model_name": "LayoutModel",
     "state": {
      "_model_module": "@jupyter-widgets/base",
      "_model_module_version": "1.2.0",
      "_model_name": "LayoutModel",
      "_view_count": null,
      "_view_module": "@jupyter-widgets/base",
      "_view_module_version": "1.2.0",
      "_view_name": "LayoutView",
      "align_content": null,
      "align_items": null,
      "align_self": null,
      "border": null,
      "bottom": null,
      "display": null,
      "flex": null,
      "flex_flow": null,
      "grid_area": null,
      "grid_auto_columns": null,
      "grid_auto_flow": null,
      "grid_auto_rows": null,
      "grid_column": null,
      "grid_gap": null,
      "grid_row": null,
      "grid_template_areas": null,
      "grid_template_columns": null,
      "grid_template_rows": null,
      "height": null,
      "justify_content": null,
      "justify_items": null,
      "left": null,
      "margin": null,
      "max_height": null,
      "max_width": null,
      "min_height": null,
      "min_width": null,
      "object_fit": null,
      "object_position": null,
      "order": null,
      "overflow": null,
      "overflow_x": null,
      "overflow_y": null,
      "padding": null,
      "right": null,
      "top": null,
      "visibility": null,
      "width": null
     }
    },
    "21fe03e4f472418595d17b5f8e49b59e": {
     "model_module": "@jupyter-widgets/base",
     "model_module_version": "1.2.0",
     "model_name": "LayoutModel",
     "state": {
      "_model_module": "@jupyter-widgets/base",
      "_model_module_version": "1.2.0",
      "_model_name": "LayoutModel",
      "_view_count": null,
      "_view_module": "@jupyter-widgets/base",
      "_view_module_version": "1.2.0",
      "_view_name": "LayoutView",
      "align_content": null,
      "align_items": null,
      "align_self": null,
      "border": null,
      "bottom": null,
      "display": null,
      "flex": null,
      "flex_flow": null,
      "grid_area": null,
      "grid_auto_columns": null,
      "grid_auto_flow": null,
      "grid_auto_rows": null,
      "grid_column": null,
      "grid_gap": null,
      "grid_row": null,
      "grid_template_areas": null,
      "grid_template_columns": null,
      "grid_template_rows": null,
      "height": null,
      "justify_content": null,
      "justify_items": null,
      "left": null,
      "margin": null,
      "max_height": null,
      "max_width": null,
      "min_height": null,
      "min_width": null,
      "object_fit": null,
      "object_position": null,
      "order": null,
      "overflow": null,
      "overflow_x": null,
      "overflow_y": null,
      "padding": null,
      "right": null,
      "top": null,
      "visibility": null,
      "width": null
     }
    },
    "63c48401e64c49a98adf2acfe3a954d1": {
     "model_module": "@jupyter-widgets/controls",
     "model_module_version": "1.5.0",
     "model_name": "DescriptionStyleModel",
     "state": {
      "_model_module": "@jupyter-widgets/controls",
      "_model_module_version": "1.5.0",
      "_model_name": "DescriptionStyleModel",
      "_view_count": null,
      "_view_module": "@jupyter-widgets/base",
      "_view_module_version": "1.2.0",
      "_view_name": "StyleView",
      "description_width": ""
     }
    },
    "764e77b54bb1468e8d26dd3b0652598e": {
     "model_module": "@jupyter-widgets/base",
     "model_module_version": "1.2.0",
     "model_name": "LayoutModel",
     "state": {
      "_model_module": "@jupyter-widgets/base",
      "_model_module_version": "1.2.0",
      "_model_name": "LayoutModel",
      "_view_count": null,
      "_view_module": "@jupyter-widgets/base",
      "_view_module_version": "1.2.0",
      "_view_name": "LayoutView",
      "align_content": null,
      "align_items": null,
      "align_self": null,
      "border": null,
      "bottom": null,
      "display": null,
      "flex": null,
      "flex_flow": null,
      "grid_area": null,
      "grid_auto_columns": null,
      "grid_auto_flow": null,
      "grid_auto_rows": null,
      "grid_column": null,
      "grid_gap": null,
      "grid_row": null,
      "grid_template_areas": null,
      "grid_template_columns": null,
      "grid_template_rows": null,
      "height": null,
      "justify_content": null,
      "justify_items": null,
      "left": null,
      "margin": null,
      "max_height": null,
      "max_width": null,
      "min_height": null,
      "min_width": null,
      "object_fit": null,
      "object_position": null,
      "order": null,
      "overflow": null,
      "overflow_x": null,
      "overflow_y": null,
      "padding": null,
      "right": null,
      "top": null,
      "visibility": null,
      "width": null
     }
    },
    "86f38835edca41b88ecbc327237ce8a6": {
     "model_module": "@jupyter-widgets/controls",
     "model_module_version": "1.5.0",
     "model_name": "HBoxModel",
     "state": {
      "_dom_classes": [],
      "_model_module": "@jupyter-widgets/controls",
      "_model_module_version": "1.5.0",
      "_model_name": "HBoxModel",
      "_view_count": null,
      "_view_module": "@jupyter-widgets/controls",
      "_view_module_version": "1.5.0",
      "_view_name": "HBoxView",
      "box_style": "",
      "children": [
       "IPY_MODEL_c6244e356801412795bc0111a6145f8e",
       "IPY_MODEL_dc898e8b3dd84c2db305c516b6a931a7",
       "IPY_MODEL_c317e541aa96422abb4af696aa67b57d"
      ],
      "layout": "IPY_MODEL_ed1f89fbedc741da8225411b38a7c783"
     }
    },
    "c317e541aa96422abb4af696aa67b57d": {
     "model_module": "@jupyter-widgets/controls",
     "model_module_version": "1.5.0",
     "model_name": "HTMLModel",
     "state": {
      "_dom_classes": [],
      "_model_module": "@jupyter-widgets/controls",
      "_model_module_version": "1.5.0",
      "_model_name": "HTMLModel",
      "_view_count": null,
      "_view_module": "@jupyter-widgets/controls",
      "_view_module_version": "1.5.0",
      "_view_name": "HTMLView",
      "description": "",
      "description_tooltip": null,
      "layout": "IPY_MODEL_08d1a941c29641ef9efb7ef010a234ca",
      "placeholder": "​",
      "style": "IPY_MODEL_cb1ccfe3651e465d9f17849b19f5e471",
      "value": " 3/3 [00:37&lt;00:00, 13.51s/it]"
     }
    },
    "c6244e356801412795bc0111a6145f8e": {
     "model_module": "@jupyter-widgets/controls",
     "model_module_version": "1.5.0",
     "model_name": "HTMLModel",
     "state": {
      "_dom_classes": [],
      "_model_module": "@jupyter-widgets/controls",
      "_model_module_version": "1.5.0",
      "_model_name": "HTMLModel",
      "_view_count": null,
      "_view_module": "@jupyter-widgets/controls",
      "_view_module_version": "1.5.0",
      "_view_name": "HTMLView",
      "description": "",
      "description_tooltip": null,
      "layout": "IPY_MODEL_21fe03e4f472418595d17b5f8e49b59e",
      "placeholder": "​",
      "style": "IPY_MODEL_63c48401e64c49a98adf2acfe3a954d1",
      "value": "100%"
     }
    },
    "cb1ccfe3651e465d9f17849b19f5e471": {
     "model_module": "@jupyter-widgets/controls",
     "model_module_version": "1.5.0",
     "model_name": "DescriptionStyleModel",
     "state": {
      "_model_module": "@jupyter-widgets/controls",
      "_model_module_version": "1.5.0",
      "_model_name": "DescriptionStyleModel",
      "_view_count": null,
      "_view_module": "@jupyter-widgets/base",
      "_view_module_version": "1.2.0",
      "_view_name": "StyleView",
      "description_width": ""
     }
    },
    "d86cbb8d5a484416b627893fc68fdfc4": {
     "model_module": "@jupyter-widgets/controls",
     "model_module_version": "1.5.0",
     "model_name": "ProgressStyleModel",
     "state": {
      "_model_module": "@jupyter-widgets/controls",
      "_model_module_version": "1.5.0",
      "_model_name": "ProgressStyleModel",
      "_view_count": null,
      "_view_module": "@jupyter-widgets/base",
      "_view_module_version": "1.2.0",
      "_view_name": "StyleView",
      "bar_color": null,
      "description_width": ""
     }
    },
    "dc898e8b3dd84c2db305c516b6a931a7": {
     "model_module": "@jupyter-widgets/controls",
     "model_module_version": "1.5.0",
     "model_name": "FloatProgressModel",
     "state": {
      "_dom_classes": [],
      "_model_module": "@jupyter-widgets/controls",
      "_model_module_version": "1.5.0",
      "_model_name": "FloatProgressModel",
      "_view_count": null,
      "_view_module": "@jupyter-widgets/controls",
      "_view_module_version": "1.5.0",
      "_view_name": "ProgressView",
      "bar_style": "success",
      "description": "",
      "description_tooltip": null,
      "layout": "IPY_MODEL_764e77b54bb1468e8d26dd3b0652598e",
      "max": 3,
      "min": 0,
      "orientation": "horizontal",
      "style": "IPY_MODEL_d86cbb8d5a484416b627893fc68fdfc4",
      "value": 3
     }
    },
    "ed1f89fbedc741da8225411b38a7c783": {
     "model_module": "@jupyter-widgets/base",
     "model_module_version": "1.2.0",
     "model_name": "LayoutModel",
     "state": {
      "_model_module": "@jupyter-widgets/base",
      "_model_module_version": "1.2.0",
      "_model_name": "LayoutModel",
      "_view_count": null,
      "_view_module": "@jupyter-widgets/base",
      "_view_module_version": "1.2.0",
      "_view_name": "LayoutView",
      "align_content": null,
      "align_items": null,
      "align_self": null,
      "border": null,
      "bottom": null,
      "display": null,
      "flex": null,
      "flex_flow": null,
      "grid_area": null,
      "grid_auto_columns": null,
      "grid_auto_flow": null,
      "grid_auto_rows": null,
      "grid_column": null,
      "grid_gap": null,
      "grid_row": null,
      "grid_template_areas": null,
      "grid_template_columns": null,
      "grid_template_rows": null,
      "height": null,
      "justify_content": null,
      "justify_items": null,
      "left": null,
      "margin": null,
      "max_height": null,
      "max_width": null,
      "min_height": null,
      "min_width": null,
      "object_fit": null,
      "object_position": null,
      "order": null,
      "overflow": null,
      "overflow_x": null,
      "overflow_y": null,
      "padding": null,
      "right": null,
      "top": null,
      "visibility": null,
      "width": null
     }
    }
   }
  }
 },
 "nbformat": 4,
 "nbformat_minor": 5
}
